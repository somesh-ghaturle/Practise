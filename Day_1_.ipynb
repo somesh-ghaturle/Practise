{
  "nbformat": 4,
  "nbformat_minor": 0,
  "metadata": {
    "colab": {
      "name": "Day-1 .ipynb",
      "provenance": [],
      "authorship_tag": "ABX9TyPlLzHGHLJEKy5Ppnll8Hey"
    },
    "kernelspec": {
      "name": "python3",
      "display_name": "Python 3"
    },
    "language_info": {
      "name": "python"
    }
  },
  "cells": [
    {
      "cell_type": "code",
      "metadata": {
        "id": "gTvYJFk2cM9Z"
      },
      "source": [
        ""
      ],
      "execution_count": null,
      "outputs": []
    }
  ]
}